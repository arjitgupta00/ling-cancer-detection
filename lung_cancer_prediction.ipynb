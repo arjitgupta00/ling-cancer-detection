{
  "metadata": {
    "kernelspec": {
      "language": "python",
      "display_name": "Python 3",
      "name": "python3"
    },
    "language_info": {
      "name": "python",
      "version": "3.7.12",
      "mimetype": "text/x-python",
      "codemirror_mode": {
        "name": "ipython",
        "version": 3
      },
      "pygments_lexer": "ipython3",
      "nbconvert_exporter": "python",
      "file_extension": ".py"
    },
    "colab": {
      "name": "lung-cancer-prediction.ipynb",
      "provenance": [],
      "collapsed_sections": [],
      "include_colab_link": true
    },
    "accelerator": "GPU"
  },
  "nbformat_minor": 0,
  "nbformat": 4,
  "cells": [
    {
      "cell_type": "markdown",
      "metadata": {
        "id": "view-in-github",
        "colab_type": "text"
      },
      "source": [
        "<a href=\"https://colab.research.google.com/github/arjitgupta00/lung-cancer-detection/blob/main/lung_cancer_prediction.ipynb\" target=\"_parent\"><img src=\"https://colab.research.google.com/assets/colab-badge.svg\" alt=\"Open In Colab\"/></a>"
      ]
    },
    {
      "cell_type": "code",
      "source": [
        "!pip install pandas==0.23.4\n",
        "!pip install matplotlib==3.5.2"
      ],
      "metadata": {
        "colab": {
          "base_uri": "https://localhost:8080/",
          "height": 1000
        },
        "id": "tprQzsQwBPXO",
        "outputId": "ada3226d-8c66-4101-d1a7-1cfe6427615b"
      },
      "execution_count": 1,
      "outputs": [
        {
          "output_type": "stream",
          "name": "stdout",
          "text": [
            "Looking in indexes: https://pypi.org/simple, https://us-python.pkg.dev/colab-wheels/public/simple/\n",
            "Collecting pandas==0.23.4\n",
            "  Downloading pandas-0.23.4-cp37-cp37m-manylinux1_x86_64.whl (8.8 MB)\n",
            "\u001b[K     |████████████████████████████████| 8.8 MB 24.5 MB/s \n",
            "\u001b[?25hRequirement already satisfied: numpy>=1.9.0 in /usr/local/lib/python3.7/dist-packages (from pandas==0.23.4) (1.21.6)\n",
            "Requirement already satisfied: pytz>=2011k in /usr/local/lib/python3.7/dist-packages (from pandas==0.23.4) (2022.1)\n",
            "Requirement already satisfied: python-dateutil>=2.5.0 in /usr/local/lib/python3.7/dist-packages (from pandas==0.23.4) (2.8.2)\n",
            "Requirement already satisfied: six>=1.5 in /usr/local/lib/python3.7/dist-packages (from python-dateutil>=2.5.0->pandas==0.23.4) (1.15.0)\n",
            "Installing collected packages: pandas\n",
            "  Attempting uninstall: pandas\n",
            "    Found existing installation: pandas 1.3.5\n",
            "    Uninstalling pandas-1.3.5:\n",
            "      Successfully uninstalled pandas-1.3.5\n",
            "\u001b[31mERROR: pip's dependency resolver does not currently take into account all the packages that are installed. This behaviour is the source of the following dependency conflicts.\n",
            "xarray 0.20.2 requires pandas>=1.1, but you have pandas 0.23.4 which is incompatible.\n",
            "pymc3 3.11.4 requires pandas>=0.24.0, but you have pandas 0.23.4 which is incompatible.\n",
            "plotnine 0.6.0 requires pandas>=0.25.0, but you have pandas 0.23.4 which is incompatible.\n",
            "mizani 0.6.0 requires pandas>=0.25.0, but you have pandas 0.23.4 which is incompatible.\n",
            "google-colab 1.0.0 requires pandas>=1.1.0; python_version >= \"3.0\", but you have pandas 0.23.4 which is incompatible.\n",
            "fbprophet 0.7.1 requires pandas>=1.0.4, but you have pandas 0.23.4 which is incompatible.\u001b[0m\n",
            "Successfully installed pandas-0.23.4\n",
            "Looking in indexes: https://pypi.org/simple, https://us-python.pkg.dev/colab-wheels/public/simple/\n",
            "Collecting matplotlib==3.5.2\n",
            "  Downloading matplotlib-3.5.2-cp37-cp37m-manylinux_2_5_x86_64.manylinux1_x86_64.whl (11.2 MB)\n",
            "\u001b[K     |████████████████████████████████| 11.2 MB 30.7 MB/s \n",
            "\u001b[?25hRequirement already satisfied: kiwisolver>=1.0.1 in /usr/local/lib/python3.7/dist-packages (from matplotlib==3.5.2) (1.4.3)\n",
            "Requirement already satisfied: pillow>=6.2.0 in /usr/local/lib/python3.7/dist-packages (from matplotlib==3.5.2) (7.1.2)\n",
            "Requirement already satisfied: packaging>=20.0 in /usr/local/lib/python3.7/dist-packages (from matplotlib==3.5.2) (21.3)\n",
            "Requirement already satisfied: numpy>=1.17 in /usr/local/lib/python3.7/dist-packages (from matplotlib==3.5.2) (1.21.6)\n",
            "Requirement already satisfied: python-dateutil>=2.7 in /usr/local/lib/python3.7/dist-packages (from matplotlib==3.5.2) (2.8.2)\n",
            "Collecting fonttools>=4.22.0\n",
            "  Downloading fonttools-4.33.3-py3-none-any.whl (930 kB)\n",
            "\u001b[K     |████████████████████████████████| 930 kB 56.1 MB/s \n",
            "\u001b[?25hRequirement already satisfied: pyparsing>=2.2.1 in /usr/local/lib/python3.7/dist-packages (from matplotlib==3.5.2) (3.0.9)\n",
            "Requirement already satisfied: cycler>=0.10 in /usr/local/lib/python3.7/dist-packages (from matplotlib==3.5.2) (0.11.0)\n",
            "Requirement already satisfied: typing-extensions in /usr/local/lib/python3.7/dist-packages (from kiwisolver>=1.0.1->matplotlib==3.5.2) (4.1.1)\n",
            "Requirement already satisfied: six>=1.5 in /usr/local/lib/python3.7/dist-packages (from python-dateutil>=2.7->matplotlib==3.5.2) (1.15.0)\n",
            "Installing collected packages: fonttools, matplotlib\n",
            "  Attempting uninstall: matplotlib\n",
            "    Found existing installation: matplotlib 3.2.2\n",
            "    Uninstalling matplotlib-3.2.2:\n",
            "      Successfully uninstalled matplotlib-3.2.2\n",
            "\u001b[31mERROR: pip's dependency resolver does not currently take into account all the packages that are installed. This behaviour is the source of the following dependency conflicts.\n",
            "plotnine 0.6.0 requires pandas>=0.25.0, but you have pandas 0.23.4 which is incompatible.\n",
            "mizani 0.6.0 requires pandas>=0.25.0, but you have pandas 0.23.4 which is incompatible.\n",
            "fbprophet 0.7.1 requires pandas>=1.0.4, but you have pandas 0.23.4 which is incompatible.\n",
            "albumentations 0.1.12 requires imgaug<0.2.7,>=0.2.5, but you have imgaug 0.2.9 which is incompatible.\u001b[0m\n",
            "Successfully installed fonttools-4.33.3 matplotlib-3.5.2\n"
          ]
        },
        {
          "output_type": "display_data",
          "data": {
            "application/vnd.colab-display-data+json": {
              "pip_warning": {
                "packages": [
                  "matplotlib",
                  "mpl_toolkits"
                ]
              }
            }
          },
          "metadata": {}
        }
      ]
    },
    {
      "cell_type": "code",
      "source": [
        "import os\n",
        "import cv2\n",
        "import pandas as pd\n",
        "import numpy as np\n",
        "import tensorflow as tf\n",
        "import matplotlib.pyplot as plt\n",
        "\n",
        "import warnings\n",
        "warnings.filterwarnings(\"ignore\")"
      ],
      "metadata": {
        "execution": {
          "iopub.status.busy": "2022-04-20T09:33:25.305871Z",
          "iopub.execute_input": "2022-04-20T09:33:25.306141Z",
          "iopub.status.idle": "2022-04-20T09:33:25.310365Z",
          "shell.execute_reply.started": "2022-04-20T09:33:25.306107Z",
          "shell.execute_reply": "2022-04-20T09:33:25.309674Z"
        },
        "trusted": true,
        "id": "wxPFExaV4WdD"
      },
      "execution_count": 1,
      "outputs": []
    },
    {
      "cell_type": "code",
      "source": [
        "# Load the Drive helper and mount\n",
        "from google.colab import drive\n",
        "\n",
        "# This will prompt for authorization.\n",
        "drive.mount('/content/drive')\n",
        "\n",
        "!ls \"/content/drive/My Drive\""
      ],
      "metadata": {
        "colab": {
          "base_uri": "https://localhost:8080/"
        },
        "id": "4VXNdbYj9u6Q",
        "outputId": "a4c3c8c6-22cc-4b56-b05e-2dc0ae8df465"
      },
      "execution_count": 2,
      "outputs": [
        {
          "output_type": "stream",
          "name": "stdout",
          "text": [
            "Mounted at /content/drive\n",
            "'Colab Notebooks'\n",
            " Data\n",
            "'Data Analysis Internship.gslides'\n",
            " DOCS\n",
            " imgonline-com-ua-resize-86anrQ4SruiVAc.jpg\n",
            "'Jashn-e-rekhta '\n",
            " Major.gdoc\n",
            "'MAJOR PROJECT 2022(Final).gslides'\n",
            " prof.jpeg\n",
            " Resume\n",
            "'SEMINAR 2022.gslides'\n",
            "'WORK SAMPLES '\n"
          ]
        }
      ]
    },
    {
      "cell_type": "code",
      "source": [
        "# File Directory for both the train and test\n",
        "train_path = \"/content/drive/MyDrive/Data/train\"\n",
        "val_path = \"/content/drive/MyDrive/Data/valid\"\n",
        "test_path = \"/content/drive/MyDrive/Data/test\""
      ],
      "metadata": {
        "execution": {
          "iopub.status.busy": "2022-04-20T09:33:26.076100Z",
          "iopub.execute_input": "2022-04-20T09:33:26.076616Z",
          "iopub.status.idle": "2022-04-20T09:33:26.080419Z",
          "shell.execute_reply.started": "2022-04-20T09:33:26.076579Z",
          "shell.execute_reply": "2022-04-20T09:33:26.079627Z"
        },
        "trusted": true,
        "id": "e8S-zimQ4WdO"
      },
      "execution_count": 3,
      "outputs": []
    },
    {
      "cell_type": "code",
      "source": [
        "def GetDatasetSize(path):\n",
        "    num_of_image = {}\n",
        "    for folder in os.listdir(path):\n",
        "        # Counting the Number of Files in the Folder\n",
        "        num_of_image[folder] = len(os.listdir(os.path.join(path, folder)));\n",
        "    return num_of_image;\n",
        "    \n",
        "train_set = GetDatasetSize(train_path)\n",
        "val_set = GetDatasetSize(val_path)\n",
        "test_set = GetDatasetSize(test_path)\n",
        "print(train_set,\"\\n\\n\",val_set,\"\\n\\n\",test_set)"
      ],
      "metadata": {
        "execution": {
          "iopub.status.busy": "2022-04-20T09:33:28.634948Z",
          "iopub.execute_input": "2022-04-20T09:33:28.635201Z",
          "iopub.status.idle": "2022-04-20T09:33:28.870665Z",
          "shell.execute_reply.started": "2022-04-20T09:33:28.635171Z",
          "shell.execute_reply": "2022-04-20T09:33:28.869990Z"
        },
        "trusted": true,
        "colab": {
          "base_uri": "https://localhost:8080/"
        },
        "id": "4vA8oUnP4WdQ",
        "outputId": "d4785a8d-dd8d-4ac3-b433-0008f28ce159"
      },
      "execution_count": 4,
      "outputs": [
        {
          "output_type": "stream",
          "name": "stdout",
          "text": [
            "{'large.cell.carcinoma_left.hilum_T2_N2_M0_IIIa': 115, 'adenocarcinoma_left.lower.lobe_T2_N0_M0_Ib': 195, 'squamous.cell.carcinoma_left.hilum_T1_N2_M0_IIIa': 155, 'normal': 148} \n",
            "\n",
            " {'large.cell.carcinoma_left.hilum_T2_N2_M0_IIIa': 21, 'squamous.cell.carcinoma_left.hilum_T1_N2_M0_IIIa': 15, 'adenocarcinoma_left.lower.lobe_T2_N0_M0_Ib': 23, 'normal': 13} \n",
            "\n",
            " {'squamous.cell.carcinoma': 90, 'normal': 54, 'large.cell.carcinoma': 51, 'adenocarcinoma': 120}\n"
          ]
        }
      ]
    },
    {
      "cell_type": "code",
      "source": [
        "labels = ['Squamous Cell Carcinoma', 'Normal', 'Adenocarcinoma', 'Large Cell Carcinoma']\n",
        "train_list = list(train_set.values())\n",
        "val_list = list(val_set.values())\n",
        "test_list = list(test_set.values())\n",
        "\n",
        "x = np.arange(len(labels))  # the label locations\n",
        "width = 0.20  # the width of the bars\n",
        "\n",
        "fig, ax = plt.subplots()\n",
        "rects1 = ax.bar(x - width, train_list, width, label='Train',color = 'red')\n",
        "rects2 = ax.bar(x, val_list, width, label='Val', color = 'blue')\n",
        "rects3 = ax.bar(x + width, test_list, width, label='Test', color = 'green')\n",
        "\n",
        "# Add some text for labels, title and custom x-axis tick labels, etc.\n",
        "ax.set_ylabel('Images Count')\n",
        "ax.set_title('Dataset')\n",
        "ax.set_xticks(x, labels)\n",
        "plt.xticks(rotation=15)\n",
        "ax.legend()\n",
        "\n",
        "ax.bar_label(rects1)\n",
        "ax.bar_label(rects2)\n",
        "ax.bar_label(rects3)\n",
        "\n",
        "fig.tight_layout()\n",
        "\n",
        "plt.show()"
      ],
      "metadata": {
        "execution": {
          "iopub.status.busy": "2022-04-20T09:33:28.872284Z",
          "iopub.execute_input": "2022-04-20T09:33:28.872620Z",
          "iopub.status.idle": "2022-04-20T09:33:29.230192Z",
          "shell.execute_reply.started": "2022-04-20T09:33:28.872576Z",
          "shell.execute_reply": "2022-04-20T09:33:29.229514Z"
        },
        "trusted": true,
        "colab": {
          "base_uri": "https://localhost:8080/",
          "height": 297
        },
        "id": "rgBDmJr64WdU",
        "outputId": "6b1cd691-4ca9-4ff9-fe96-af4718718bec"
      },
      "execution_count": 5,
      "outputs": [
        {
          "output_type": "display_data",
          "data": {
            "text/plain": [
              "<Figure size 432x288 with 1 Axes>"
            ],
            "image/png": "[encoded data removed]"
          },
          "metadata": {
            "needs_background": "light"
          }
        }
      ]
    },
    {
      "cell_type": "markdown",
      "source": [
        "## Importing Keras for Image Classification"
      ],
      "metadata": {
        "id": "3GsuVR0O4WdW"
      }
    },
    {
      "cell_type": "code",
      "source": [
        "import tensorflow.keras\n",
        "from tensorflow.keras import layers\n",
        "from tensorflow.keras import Model \n",
        "from tensorflow.keras.models import Sequential\n",
        "from tensorflow.keras.preprocessing import image\n",
        "from tensorflow.keras.callbacks import ModelCheckpoint, EarlyStopping\n",
        "from tensorflow.keras.preprocessing.image import ImageDataGenerator\n",
        "from tensorflow.keras.applications.vgg16 import VGG16, preprocess_input\n",
        "from tensorflow.keras.models import load_model, Model\n",
        "from tensorflow.keras.layers import Dense,Conv2D, Flatten, MaxPool2D, Dropout"
      ],
      "metadata": {
        "execution": {
          "iopub.status.busy": "2022-04-20T09:33:29.902642Z",
          "iopub.execute_input": "2022-04-20T09:33:29.903199Z",
          "iopub.status.idle": "2022-04-20T09:33:30.883703Z",
          "shell.execute_reply.started": "2022-04-20T09:33:29.903162Z",
          "shell.execute_reply": "2022-04-20T09:33:30.882961Z"
        },
        "trusted": true,
        "id": "8PfXZjG_4WdZ"
      },
      "execution_count": 6,
      "outputs": []
    },
    {
      "cell_type": "code",
      "source": [
        "train_datagen = ImageDataGenerator(rescale = 1.0/255.0,\n",
        "                                  horizontal_flip = True,\n",
        "                                  fill_mode = 'nearest',\n",
        "                                  zoom_range=0.2,\n",
        "                                  shear_range = 0.2,\n",
        "                                  width_shift_range=0.2,\n",
        "                                  height_shift_range=0.2,\n",
        "                                  rotation_range=0.4)\n",
        "\n",
        "train_data = train_datagen.flow_from_directory(train_path,\n",
        "                                                   batch_size = 5,\n",
        "                                                   target_size = (350,350),\n",
        "                                                   class_mode = 'categorical')"
      ],
      "metadata": {
        "execution": {
          "iopub.status.busy": "2022-04-20T09:33:34.665886Z",
          "iopub.execute_input": "2022-04-20T09:33:34.666167Z",
          "iopub.status.idle": "2022-04-20T09:33:34.780960Z",
          "shell.execute_reply.started": "2022-04-20T09:33:34.666132Z",
          "shell.execute_reply": "2022-04-20T09:33:34.779589Z"
        },
        "trusted": true,
        "colab": {
          "base_uri": "https://localhost:8080/"
        },
        "id": "S94jWJUE4Wdb",
        "outputId": "84755d7f-d163-46f5-e9d7-24011fd70d89"
      },
      "execution_count": 7,
      "outputs": [
        {
          "output_type": "stream",
          "name": "stdout",
          "text": [
            "Found 613 images belonging to 4 classes.\n"
          ]
        }
      ]
    },
    {
      "cell_type": "code",
      "source": [
        "train_data.class_indices"
      ],
      "metadata": {
        "execution": {
          "iopub.status.busy": "2022-04-20T09:33:35.927069Z",
          "iopub.execute_input": "2022-04-20T09:33:35.927368Z",
          "iopub.status.idle": "2022-04-20T09:33:35.932790Z",
          "shell.execute_reply.started": "2022-04-20T09:33:35.927330Z",
          "shell.execute_reply": "2022-04-20T09:33:35.931856Z"
        },
        "trusted": true,
        "colab": {
          "base_uri": "https://localhost:8080/"
        },
        "id": "b8j9WZBp4Wdc",
        "outputId": "134d10eb-0571-4618-e821-ff98179c1f57"
      },
      "execution_count": 8,
      "outputs": [
        {
          "output_type": "execute_result",
          "data": {
            "text/plain": [
              "{'adenocarcinoma_left.lower.lobe_T2_N0_M0_Ib': 0,\n",
              " 'large.cell.carcinoma_left.hilum_T2_N2_M0_IIIa': 1,\n",
              " 'normal': 2,\n",
              " 'squamous.cell.carcinoma_left.hilum_T1_N2_M0_IIIa': 3}"
            ]
          },
          "metadata": {},
          "execution_count": 8
        }
      ]
    },
    {
      "cell_type": "code",
      "source": [
        "val_datagen = ImageDataGenerator(rescale = 1.0/255.0)\n",
        "val_data = val_datagen.flow_from_directory(val_path,\n",
        "                                                   batch_size = 5,\n",
        "                                                   target_size = (350,350),\n",
        "                                                   class_mode = 'categorical')"
      ],
      "metadata": {
        "execution": {
          "iopub.status.busy": "2022-04-20T09:33:36.871357Z",
          "iopub.execute_input": "2022-04-20T09:33:36.871984Z",
          "iopub.status.idle": "2022-04-20T09:33:36.979015Z",
          "shell.execute_reply.started": "2022-04-20T09:33:36.871948Z",
          "shell.execute_reply": "2022-04-20T09:33:36.978340Z"
        },
        "trusted": true,
        "colab": {
          "base_uri": "https://localhost:8080/"
        },
        "id": "6Ft6dDDt4Wde",
        "outputId": "026f6bf4-753f-4a2b-f683-99f37f1a41eb"
      },
      "execution_count": 9,
      "outputs": [
        {
          "output_type": "stream",
          "name": "stdout",
          "text": [
            "Found 72 images belonging to 4 classes.\n"
          ]
        }
      ]
    },
    {
      "cell_type": "code",
      "source": [
        "val_data.class_indices"
      ],
      "metadata": {
        "execution": {
          "iopub.status.busy": "2022-04-20T09:33:37.127714Z",
          "iopub.execute_input": "2022-04-20T09:33:37.128215Z",
          "iopub.status.idle": "2022-04-20T09:33:37.135180Z",
          "shell.execute_reply.started": "2022-04-20T09:33:37.128185Z",
          "shell.execute_reply": "2022-04-20T09:33:37.134403Z"
        },
        "trusted": true,
        "colab": {
          "base_uri": "https://localhost:8080/"
        },
        "id": "-hTBmPI04Wdf",
        "outputId": "6bafbc9e-fb13-486b-d94b-90e8ab5bb874"
      },
      "execution_count": 10,
      "outputs": [
        {
          "output_type": "execute_result",
          "data": {
            "text/plain": [
              "{'adenocarcinoma_left.lower.lobe_T2_N0_M0_Ib': 0,\n",
              " 'large.cell.carcinoma_left.hilum_T2_N2_M0_IIIa': 1,\n",
              " 'normal': 2,\n",
              " 'squamous.cell.carcinoma_left.hilum_T1_N2_M0_IIIa': 3}"
            ]
          },
          "metadata": {},
          "execution_count": 10
        }
      ]
    },
    {
      "cell_type": "code",
      "source": [
        "test_datagen = ImageDataGenerator(rescale = 1.0/255.0)\n",
        "test_data = test_datagen.flow_from_directory(test_path,\n",
        "                                                   batch_size = 5,\n",
        "                                                   target_size = (350,350),\n",
        "                                                   class_mode = 'categorical')"
      ],
      "metadata": {
        "execution": {
          "iopub.status.busy": "2022-04-20T09:33:37.970905Z",
          "iopub.execute_input": "2022-04-20T09:33:37.971241Z",
          "iopub.status.idle": "2022-04-20T09:33:38.078566Z",
          "shell.execute_reply.started": "2022-04-20T09:33:37.971199Z",
          "shell.execute_reply": "2022-04-20T09:33:38.077840Z"
        },
        "trusted": true,
        "colab": {
          "base_uri": "https://localhost:8080/"
        },
        "id": "ZUiGHHsQ4Wdg",
        "outputId": "9d93af45-1705-4f9b-eafe-16d0155b483d"
      },
      "execution_count": null,
      "outputs": [
        {
          "output_type": "stream",
          "name": "stdout",
          "text": [
            "Found 315 images belonging to 4 classes.\n"
          ]
        }
      ]
    },
    {
      "cell_type": "code",
      "source": [
        "test_data.class_indices"
      ],
      "metadata": {
        "execution": {
          "iopub.status.busy": "2022-04-20T09:33:38.200889Z",
          "iopub.execute_input": "2022-04-20T09:33:38.201409Z",
          "iopub.status.idle": "2022-04-20T09:33:38.207285Z",
          "shell.execute_reply.started": "2022-04-20T09:33:38.201373Z",
          "shell.execute_reply": "2022-04-20T09:33:38.206597Z"
        },
        "trusted": true,
        "colab": {
          "base_uri": "https://localhost:8080/"
        },
        "id": "4M5xRKc04Wdg",
        "outputId": "3b1d6cbc-87c6-43b0-d9db-3b76038dc80d"
      },
      "execution_count": null,
      "outputs": [
        {
          "output_type": "execute_result",
          "data": {
            "text/plain": [
              "{'adenocarcinoma': 0,\n",
              " 'large.cell.carcinoma': 1,\n",
              " 'normal': 2,\n",
              " 'squamous.cell.carcinoma': 3}"
            ]
          },
          "metadata": {},
          "execution_count": 12
        }
      ]
    },
    {
      "cell_type": "markdown",
      "source": [
        "## Incep"
      ],
      "metadata": {
        "id": "zf3qOb_Z4Wdh"
      }
    },
    {
      "cell_type": "code",
      "source": [
        "from tensorflow.keras.applications.inception_v3 import InceptionV3\n",
        "\n",
        "base_model = InceptionV3(input_shape = (350, 350, 3), \n",
        "                         include_top = False, \n",
        "                         weights = 'imagenet')\n",
        "\n",
        "\n",
        "for layer in base_model.layers:\n",
        "    layer.trainable = False\n",
        "\n",
        "\n",
        "x = layers.Flatten()(base_model.output)\n",
        "x = layers.Dense(1024, activation='relu')(x)\n",
        "x = layers.Dropout(0.2)(x)\n",
        "\n",
        "# Add a final sigmoid layer with 4 node for classification output\n",
        "x = layers.Dense(4, activation='sigmoid')(x)\n",
        "\n",
        "model_incep = tf.keras.models.Model(base_model.input, x)\n",
        "\n",
        "model_incep.compile(optimizer = tensorflow.keras.optimizers.RMSprop(learning_rate=0.0001), \n",
        "                    loss = 'categorical_crossentropy', \n",
        "                    metrics = ['accuracy'])"
      ],
      "metadata": {
        "execution": {
          "iopub.status.busy": "2022-04-20T09:33:39.266927Z",
          "iopub.execute_input": "2022-04-20T09:33:39.267180Z",
          "iopub.status.idle": "2022-04-20T09:33:43.667055Z",
          "shell.execute_reply.started": "2022-04-20T09:33:39.267151Z",
          "shell.execute_reply": "2022-04-20T09:33:43.666363Z"
        },
        "trusted": true,
        "colab": {
          "base_uri": "https://localhost:8080/"
        },
        "id": "jcEdwRBt4Wdi",
        "outputId": "3b3ae2e0-f210-4a77-eb5b-3d5095df1d3f"
      },
      "execution_count": null,
      "outputs": [
        {
          "output_type": "stream",
          "name": "stdout",
          "text": [
            "Downloading data from https://storage.googleapis.com/tensorflow/keras-applications/inception_v3/inception_v3_weights_tf_dim_ordering_tf_kernels_notop.h5\n",
            "87916544/87910968 [==============================] - 1s 0us/step\n",
            "87924736/87910968 [==============================] - 1s 0us/step\n"
          ]
        }
      ]
    },
    {
      "cell_type": "markdown",
      "source": [
        "# Resnet 50 Model"
      ],
      "metadata": {
        "id": "RkfQhzDV4Wdj"
      }
    },
    {
      "cell_type": "code",
      "source": [
        "from tensorflow.keras.applications import ResNet50\n",
        "\n",
        "base_model = ResNet50(input_shape=(350, 350,3),\n",
        "                      include_top=False, weights=\"imagenet\", \n",
        "                      pooling='max')"
      ],
      "metadata": {
        "execution": {
          "iopub.status.busy": "2022-04-20T09:33:43.668751Z",
          "iopub.execute_input": "2022-04-20T09:33:43.668992Z",
          "iopub.status.idle": "2022-04-20T09:33:46.153760Z",
          "shell.execute_reply.started": "2022-04-20T09:33:43.668961Z",
          "shell.execute_reply": "2022-04-20T09:33:46.153028Z"
        },
        "trusted": true,
        "colab": {
          "base_uri": "https://localhost:8080/"
        },
        "id": "TPWCw7d34Wdj",
        "outputId": "fef192cf-e41d-40b9-c72e-b13823ef7f7b"
      },
      "execution_count": null,
      "outputs": [
        {
          "output_type": "stream",
          "name": "stdout",
          "text": [
            "Downloading data from https://storage.googleapis.com/tensorflow/keras-applications/resnet/resnet50_weights_tf_dim_ordering_tf_kernels_notop.h5\n",
            "94773248/94765736 [==============================] - 0s 0us/step\n",
            "94781440/94765736 [==============================] - 0s 0us/step\n"
          ]
        }
      ]
    },
    {
      "cell_type": "code",
      "source": [
        "for layer in base_model.layers:\n",
        "    layer.trainable = False"
      ],
      "metadata": {
        "execution": {
          "iopub.status.busy": "2022-04-20T09:33:46.158091Z",
          "iopub.execute_input": "2022-04-20T09:33:46.160015Z",
          "iopub.status.idle": "2022-04-20T09:33:46.173237Z",
          "shell.execute_reply.started": "2022-04-20T09:33:46.159977Z",
          "shell.execute_reply": "2022-04-20T09:33:46.172608Z"
        },
        "trusted": true,
        "id": "mLhpWlkt4Wdk"
      },
      "execution_count": null,
      "outputs": []
    },
    {
      "cell_type": "code",
      "source": [
        "model_resnet = Sequential()\n",
        "model_resnet.add(base_model)\n",
        "model_resnet.add(Dense(4, activation='sigmoid'))"
      ],
      "metadata": {
        "execution": {
          "iopub.status.busy": "2022-04-20T09:33:46.177679Z",
          "iopub.execute_input": "2022-04-20T09:33:46.179728Z",
          "iopub.status.idle": "2022-04-20T09:33:46.617343Z",
          "shell.execute_reply.started": "2022-04-20T09:33:46.179663Z",
          "shell.execute_reply": "2022-04-20T09:33:46.616644Z"
        },
        "trusted": true,
        "id": "SGB5aZnt4Wdk"
      },
      "execution_count": null,
      "outputs": []
    },
    {
      "cell_type": "code",
      "source": [
        "model_resnet.compile(optimizer = tf.keras.optimizers.SGD(learning_rate=0.0001), \n",
        "                     loss = 'categorical_crossentropy', \n",
        "                     metrics = ['accuracy'])"
      ],
      "metadata": {
        "execution": {
          "iopub.status.busy": "2022-04-20T09:33:46.618586Z",
          "iopub.execute_input": "2022-04-20T09:33:46.618818Z",
          "iopub.status.idle": "2022-04-20T09:33:46.632241Z",
          "shell.execute_reply.started": "2022-04-20T09:33:46.618785Z",
          "shell.execute_reply": "2022-04-20T09:33:46.631629Z"
        },
        "trusted": true,
        "id": "f558dVdn4Wdl"
      },
      "execution_count": null,
      "outputs": []
    },
    {
      "cell_type": "code",
      "source": [
        "# Adding Model check point Callback\n",
        "\n",
        "mc = ModelCheckpoint(\n",
        "    filepath=\"./ct_resnet_best_model.hdf5\",\n",
        "    monitor= 'val_accuracy', \n",
        "    verbose= 1,\n",
        "    save_best_only= True, \n",
        "    mode = 'auto'\n",
        "    );\n",
        "\n",
        "call_back = [mc];"
      ],
      "metadata": {
        "execution": {
          "iopub.status.busy": "2022-04-20T09:33:46.633231Z",
          "iopub.execute_input": "2022-04-20T09:33:46.633498Z",
          "iopub.status.idle": "2022-04-20T09:33:46.639002Z",
          "shell.execute_reply.started": "2022-04-20T09:33:46.633461Z",
          "shell.execute_reply": "2022-04-20T09:33:46.638081Z"
        },
        "trusted": true,
        "id": "zZa8blqv4Wdl"
      },
      "execution_count": null,
      "outputs": []
    },
    {
      "cell_type": "code",
      "source": [
        "# Fitting the Model\n",
        "resnet = model_incep.fit(\n",
        "    train_data, \n",
        "    steps_per_epoch = train_data.samples//train_data.batch_size, \n",
        "    epochs = 32, \n",
        "    validation_data = val_data, \n",
        "    validation_steps = val_data.samples//val_data.batch_size,\n",
        "    callbacks = call_back \n",
        "    )"
      ],
      "metadata": {
        "execution": {
          "iopub.status.busy": "2022-04-20T09:33:55.282327Z",
          "iopub.execute_input": "2022-04-20T09:33:55.282919Z",
          "iopub.status.idle": "2022-04-20T09:48:23.330879Z",
          "shell.execute_reply.started": "2022-04-20T09:33:55.282878Z",
          "shell.execute_reply": "2022-04-20T09:48:23.330095Z"
        },
        "trusted": true,
        "colab": {
          "base_uri": "https://localhost:8080/"
        },
        "id": "mvholL2O4Wdm",
        "outputId": "b7cf688c-d40f-4239-b34d-16f54edc1736"
      },
      "execution_count": null,
      "outputs": [
        {
          "output_type": "stream",
          "name": "stdout",
          "text": [
            "Epoch 1/32\n",
            "522/522 [==============================] - ETA: 0s - loss: 2.5677 - accuracy: 0.7368\n",
            "Epoch 1: val_accuracy improved from -inf to 0.48571, saving model to ./ct_resnet_best_model.hdf5\n",
            "522/522 [==============================] - 580s 1s/step - loss: 2.5677 - accuracy: 0.7368 - val_loss: 3.6286 - val_accuracy: 0.4857\n",
            "Epoch 2/32\n",
            "522/522 [==============================] - ETA: 0s - loss: 0.9370 - accuracy: 0.8381\n",
            "Epoch 2: val_accuracy improved from 0.48571 to 0.62857, saving model to ./ct_resnet_best_model.hdf5\n",
            "522/522 [==============================] - 105s 201ms/step - loss: 0.9370 - accuracy: 0.8381 - val_loss: 2.0210 - val_accuracy: 0.6286\n",
            "Epoch 3/32\n",
            "522/522 [==============================] - ETA: 0s - loss: 0.6900 - accuracy: 0.8764\n",
            "Epoch 3: val_accuracy improved from 0.62857 to 0.68571, saving model to ./ct_resnet_best_model.hdf5\n",
            "522/522 [==============================] - 106s 203ms/step - loss: 0.6900 - accuracy: 0.8764 - val_loss: 1.1600 - val_accuracy: 0.6857\n",
            "Epoch 4/32\n",
            "522/522 [==============================] - ETA: 0s - loss: 0.6427 - accuracy: 0.8883\n",
            "Epoch 4: val_accuracy did not improve from 0.68571\n",
            "522/522 [==============================] - 99s 189ms/step - loss: 0.6427 - accuracy: 0.8883 - val_loss: 1.8956 - val_accuracy: 0.5000\n",
            "Epoch 5/32\n",
            "522/522 [==============================] - ETA: 0s - loss: 0.5361 - accuracy: 0.8937\n",
            "Epoch 5: val_accuracy did not improve from 0.68571\n",
            "522/522 [==============================] - 101s 193ms/step - loss: 0.5361 - accuracy: 0.8937 - val_loss: 2.0013 - val_accuracy: 0.5714\n",
            "Epoch 6/32\n",
            "522/522 [==============================] - ETA: 0s - loss: 0.5120 - accuracy: 0.9052\n",
            "Epoch 6: val_accuracy did not improve from 0.68571\n",
            "522/522 [==============================] - 100s 192ms/step - loss: 0.5120 - accuracy: 0.9052 - val_loss: 1.2476 - val_accuracy: 0.6286\n",
            "Epoch 7/32\n",
            "522/522 [==============================] - ETA: 0s - loss: 0.3598 - accuracy: 0.9175\n",
            "Epoch 7: val_accuracy improved from 0.68571 to 0.72857, saving model to ./ct_resnet_best_model.hdf5\n",
            "522/522 [==============================] - 107s 205ms/step - loss: 0.3598 - accuracy: 0.9175 - val_loss: 0.9511 - val_accuracy: 0.7286\n",
            "Epoch 8/32\n",
            "522/522 [==============================] - ETA: 0s - loss: 0.3933 - accuracy: 0.9156\n",
            "Epoch 8: val_accuracy did not improve from 0.72857\n",
            "522/522 [==============================] - 100s 192ms/step - loss: 0.3933 - accuracy: 0.9156 - val_loss: 0.9165 - val_accuracy: 0.7143\n",
            "Epoch 9/32\n",
            "522/522 [==============================] - ETA: 0s - loss: 0.4080 - accuracy: 0.9225\n",
            "Epoch 9: val_accuracy improved from 0.72857 to 0.78571, saving model to ./ct_resnet_best_model.hdf5\n",
            "522/522 [==============================] - 107s 205ms/step - loss: 0.4080 - accuracy: 0.9225 - val_loss: 0.5639 - val_accuracy: 0.7857\n",
            "Epoch 10/32\n",
            "522/522 [==============================] - ETA: 0s - loss: 0.4187 - accuracy: 0.9190\n",
            "Epoch 10: val_accuracy did not improve from 0.78571\n",
            "522/522 [==============================] - 100s 192ms/step - loss: 0.4187 - accuracy: 0.9190 - val_loss: 2.2450 - val_accuracy: 0.6429\n",
            "Epoch 11/32\n",
            "522/522 [==============================] - ETA: 0s - loss: 0.4113 - accuracy: 0.9252\n",
            "Epoch 11: val_accuracy did not improve from 0.78571\n",
            "522/522 [==============================] - 99s 190ms/step - loss: 0.4113 - accuracy: 0.9252 - val_loss: 2.3960 - val_accuracy: 0.6143\n",
            "Epoch 12/32\n",
            "522/522 [==============================] - ETA: 0s - loss: 0.3894 - accuracy: 0.9263\n",
            "Epoch 12: val_accuracy improved from 0.78571 to 0.80000, saving model to ./ct_resnet_best_model.hdf5\n",
            "522/522 [==============================] - 106s 204ms/step - loss: 0.3894 - accuracy: 0.9263 - val_loss: 0.7753 - val_accuracy: 0.8000\n",
            "Epoch 13/32\n",
            "522/522 [==============================] - ETA: 0s - loss: 0.3264 - accuracy: 0.9328\n",
            "Epoch 13: val_accuracy did not improve from 0.80000\n",
            "522/522 [==============================] - 101s 193ms/step - loss: 0.3264 - accuracy: 0.9328 - val_loss: 1.0922 - val_accuracy: 0.6714\n",
            "Epoch 14/32\n",
            "522/522 [==============================] - ETA: 0s - loss: 0.2911 - accuracy: 0.9394\n",
            "Epoch 14: val_accuracy did not improve from 0.80000\n",
            "522/522 [==============================] - 99s 190ms/step - loss: 0.2911 - accuracy: 0.9394 - val_loss: 3.2869 - val_accuracy: 0.6000\n",
            "Epoch 15/32\n",
            "522/522 [==============================] - ETA: 0s - loss: 0.3439 - accuracy: 0.9417\n",
            "Epoch 15: val_accuracy did not improve from 0.80000\n",
            "522/522 [==============================] - 100s 192ms/step - loss: 0.3439 - accuracy: 0.9417 - val_loss: 1.3294 - val_accuracy: 0.7714\n",
            "Epoch 16/32\n",
            "522/522 [==============================] - ETA: 0s - loss: 0.3355 - accuracy: 0.9340\n",
            "Epoch 16: val_accuracy did not improve from 0.80000\n",
            "522/522 [==============================] - 100s 191ms/step - loss: 0.3355 - accuracy: 0.9340 - val_loss: 1.2514 - val_accuracy: 0.7286\n",
            "Epoch 17/32\n",
            "522/522 [==============================] - ETA: 0s - loss: 0.2638 - accuracy: 0.9474\n",
            "Epoch 17: val_accuracy did not improve from 0.80000\n",
            "522/522 [==============================] - 100s 192ms/step - loss: 0.2638 - accuracy: 0.9474 - val_loss: 1.1615 - val_accuracy: 0.7857\n",
            "Epoch 18/32\n",
            "522/522 [==============================] - ETA: 0s - loss: 0.2941 - accuracy: 0.9432\n",
            "Epoch 18: val_accuracy did not improve from 0.80000\n",
            "522/522 [==============================] - 98s 188ms/step - loss: 0.2941 - accuracy: 0.9432 - val_loss: 1.9423 - val_accuracy: 0.7000\n",
            "Epoch 19/32\n",
            "522/522 [==============================] - ETA: 0s - loss: 0.2969 - accuracy: 0.9424\n",
            "Epoch 19: val_accuracy improved from 0.80000 to 0.81429, saving model to ./ct_resnet_best_model.hdf5\n",
            "522/522 [==============================] - 105s 201ms/step - loss: 0.2969 - accuracy: 0.9424 - val_loss: 0.8322 - val_accuracy: 0.8143\n",
            "Epoch 20/32\n",
            "522/522 [==============================] - ETA: 0s - loss: 0.2429 - accuracy: 0.9543\n",
            "Epoch 20: val_accuracy did not improve from 0.81429\n",
            "522/522 [==============================] - 98s 188ms/step - loss: 0.2429 - accuracy: 0.9543 - val_loss: 1.0579 - val_accuracy: 0.7714\n",
            "Epoch 21/32\n",
            "522/522 [==============================] - ETA: 0s - loss: 0.2535 - accuracy: 0.9497\n",
            "Epoch 21: val_accuracy did not improve from 0.81429\n",
            "522/522 [==============================] - 98s 188ms/step - loss: 0.2535 - accuracy: 0.9497 - val_loss: 2.0167 - val_accuracy: 0.6571\n",
            "Epoch 22/32\n",
            "522/522 [==============================] - ETA: 0s - loss: 0.2246 - accuracy: 0.9513\n",
            "Epoch 22: val_accuracy did not improve from 0.81429\n",
            "522/522 [==============================] - 99s 190ms/step - loss: 0.2246 - accuracy: 0.9513 - val_loss: 1.0690 - val_accuracy: 0.8000\n",
            "Epoch 23/32\n",
            "522/522 [==============================] - ETA: 0s - loss: 0.3119 - accuracy: 0.9401\n",
            "Epoch 23: val_accuracy did not improve from 0.81429\n",
            "522/522 [==============================] - 98s 187ms/step - loss: 0.3119 - accuracy: 0.9401 - val_loss: 1.1231 - val_accuracy: 0.8143\n",
            "Epoch 24/32\n",
            "522/522 [==============================] - ETA: 0s - loss: 0.2615 - accuracy: 0.9520\n",
            "Epoch 24: val_accuracy improved from 0.81429 to 0.84286, saving model to ./ct_resnet_best_model.hdf5\n",
            "522/522 [==============================] - 105s 201ms/step - loss: 0.2615 - accuracy: 0.9520 - val_loss: 0.7320 - val_accuracy: 0.8429\n",
            "Epoch 25/32\n",
            "522/522 [==============================] - ETA: 0s - loss: 0.2322 - accuracy: 0.9547\n",
            "Epoch 25: val_accuracy improved from 0.84286 to 0.87143, saving model to ./ct_resnet_best_model.hdf5\n",
            "522/522 [==============================] - 105s 200ms/step - loss: 0.2322 - accuracy: 0.9547 - val_loss: 0.5907 - val_accuracy: 0.8714\n",
            "Epoch 26/32\n",
            "522/522 [==============================] - ETA: 0s - loss: 0.2143 - accuracy: 0.9570\n",
            "Epoch 26: val_accuracy did not improve from 0.87143\n",
            "522/522 [==============================] - 100s 191ms/step - loss: 0.2143 - accuracy: 0.9570 - val_loss: 0.8489 - val_accuracy: 0.8286\n",
            "Epoch 27/32\n",
            "522/522 [==============================] - ETA: 0s - loss: 0.2139 - accuracy: 0.9551\n",
            "Epoch 27: val_accuracy did not improve from 0.87143\n",
            "522/522 [==============================] - 98s 188ms/step - loss: 0.2139 - accuracy: 0.9551 - val_loss: 1.3697 - val_accuracy: 0.7714\n",
            "Epoch 28/32\n",
            "522/522 [==============================] - ETA: 0s - loss: 0.2451 - accuracy: 0.9578\n",
            "Epoch 28: val_accuracy did not improve from 0.87143\n",
            "522/522 [==============================] - 98s 188ms/step - loss: 0.2451 - accuracy: 0.9578 - val_loss: 1.7447 - val_accuracy: 0.7714\n",
            "Epoch 29/32\n",
            "522/522 [==============================] - ETA: 0s - loss: 0.2196 - accuracy: 0.9570\n",
            "Epoch 29: val_accuracy did not improve from 0.87143\n",
            "522/522 [==============================] - 99s 190ms/step - loss: 0.2196 - accuracy: 0.9570 - val_loss: 0.5908 - val_accuracy: 0.8714\n",
            "Epoch 30/32\n",
            "522/522 [==============================] - ETA: 0s - loss: 0.2051 - accuracy: 0.9574\n",
            "Epoch 30: val_accuracy did not improve from 0.87143\n",
            "522/522 [==============================] - 98s 188ms/step - loss: 0.2051 - accuracy: 0.9574 - val_loss: 0.5111 - val_accuracy: 0.8714\n",
            "Epoch 31/32\n",
            "522/522 [==============================] - ETA: 0s - loss: 0.2080 - accuracy: 0.9620\n",
            "Epoch 31: val_accuracy did not improve from 0.87143\n",
            "522/522 [==============================] - 101s 192ms/step - loss: 0.2080 - accuracy: 0.9620 - val_loss: 1.1315 - val_accuracy: 0.8000\n",
            "Epoch 32/32\n",
            "522/522 [==============================] - ETA: 0s - loss: 0.2294 - accuracy: 0.9601\n",
            "Epoch 32: val_accuracy did not improve from 0.87143\n",
            "522/522 [==============================] - 98s 188ms/step - loss: 0.2294 - accuracy: 0.9601 - val_loss: 0.6415 - val_accuracy: 0.8714\n"
          ]
        }
      ]
    },
    {
      "cell_type": "code",
      "source": [
        "# Loading the Best Fit Model \n",
        "model = load_model(\"./ct_resnet_best_model.hdf5\")"
      ],
      "metadata": {
        "execution": {
          "iopub.status.busy": "2022-04-20T09:48:23.333779Z",
          "iopub.execute_input": "2022-04-20T09:48:23.334446Z",
          "iopub.status.idle": "2022-04-20T09:48:29.284028Z",
          "shell.execute_reply.started": "2022-04-20T09:48:23.334403Z",
          "shell.execute_reply": "2022-04-20T09:48:29.283301Z"
        },
        "trusted": true,
        "id": "VbiiOjt74Wdm"
      },
      "execution_count": null,
      "outputs": []
    },
    {
      "cell_type": "code",
      "source": [
        "# Checking the Accuracy of the Model \n",
        "accuracy_resnet = model.evaluate_generator(generator= test_data)[1] "
      ],
      "metadata": {
        "execution": {
          "iopub.status.busy": "2022-04-20T09:48:29.285710Z",
          "iopub.execute_input": "2022-04-20T09:48:29.285998Z",
          "iopub.status.idle": "2022-04-20T09:48:34.312733Z",
          "shell.execute_reply.started": "2022-04-20T09:48:29.285965Z",
          "shell.execute_reply": "2022-04-20T09:48:34.311981Z"
        },
        "trusted": true,
        "id": "FSNIvBfe4Wdm"
      },
      "execution_count": null,
      "outputs": []
    },
    {
      "cell_type": "code",
      "source": [
        "print(f\"The accuracy of the model is = {accuracy_resnet*100} %\")"
      ],
      "metadata": {
        "colab": {
          "base_uri": "https://localhost:8080/"
        },
        "id": "5OqkPMJBQA9x",
        "outputId": "e10c46b0-3714-4179-89ac-784d0d3e3e1f"
      },
      "execution_count": null,
      "outputs": [
        {
          "output_type": "stream",
          "name": "stdout",
          "text": [
            "The accuracy of the model is = 75.23809671401978 %\n"
          ]
        }
      ]
    },
    {
      "cell_type": "code",
      "source": [
        "resnet.history.keys()"
      ],
      "metadata": {
        "execution": {
          "iopub.status.busy": "2022-04-20T09:51:12.386220Z",
          "iopub.execute_input": "2022-04-20T09:51:12.386897Z",
          "iopub.status.idle": "2022-04-20T09:51:12.394154Z",
          "shell.execute_reply.started": "2022-04-20T09:51:12.386861Z",
          "shell.execute_reply": "2022-04-20T09:51:12.393256Z"
        },
        "trusted": true,
        "colab": {
          "base_uri": "https://localhost:8080/"
        },
        "id": "HX37ePas4Wdn",
        "outputId": "3db9d520-7282-466e-f290-af685ecaaf26"
      },
      "execution_count": null,
      "outputs": [
        {
          "output_type": "execute_result",
          "data": {
            "text/plain": [
              "dict_keys(['loss', 'accuracy', 'val_loss', 'val_accuracy'])"
            ]
          },
          "metadata": {},
          "execution_count": 23
        }
      ]
    },
    {
      "cell_type": "code",
      "source": [
        "# Plot model performance\n",
        "acc = resnet.history['accuracy']\n",
        "val_acc = resnet.history['val_accuracy']\n",
        "loss = resnet.history['loss']\n",
        "val_loss = resnet.history['val_loss']\n",
        "epochs_range = range(1, len(resnet.epoch) + 1)\n",
        "\n",
        "plt.figure(figsize=(15,5))\n",
        "\n",
        "plt.subplot(1, 2, 1)\n",
        "plt.plot(epochs_range, acc, label='Train Set')\n",
        "plt.plot(epochs_range, val_acc, label='Val Set')\n",
        "plt.legend(loc=\"best\")\n",
        "plt.xlabel('Epochs')\n",
        "plt.ylabel('Accuracy')\n",
        "plt.title('Model Accuracy')\n",
        "\n",
        "plt.subplot(1, 2, 2)\n",
        "plt.plot(epochs_range, loss, label='Train Set')\n",
        "plt.plot(epochs_range, val_loss, label='Val Set')\n",
        "plt.legend(loc=\"best\")\n",
        "plt.xlabel('Epochs')\n",
        "plt.ylabel('Loss')\n",
        "plt.title('Model Loss')\n",
        "\n",
        "plt.tight_layout()\n",
        "plt.show()"
      ],
      "metadata": {
        "execution": {
          "iopub.status.busy": "2022-04-20T09:51:12.739388Z",
          "iopub.execute_input": "2022-04-20T09:51:12.739592Z",
          "iopub.status.idle": "2022-04-20T09:51:13.133819Z",
          "shell.execute_reply.started": "2022-04-20T09:51:12.739568Z",
          "shell.execute_reply": "2022-04-20T09:51:13.133117Z"
        },
        "trusted": true,
        "colab": {
          "base_uri": "https://localhost:8080/",
          "height": 369
        },
        "id": "FaoFiEf54Wdn",
        "outputId": "3a310714-1d66-4da3-9dd2-1c39bf1e037e"
      },
      "execution_count": null,
      "outputs": [
        {
          "output_type": "display_data",
          "data": {
            "text/plain": [
              "<Figure size 1080x360 with 2 Axes>"
            ],
            "image/png": "[encoded data removed]"
          },
          "metadata": {
            "needs_background": "light"
          }
        }
      ]
    },
    {
      "cell_type": "code",
      "source": [
        "algos = ['Resnet50']\n",
        "accuracy = [accuracy_resnet]\n",
        "accuracy = np.floor([i * 100 for i in accuracy])\n",
        "  \n",
        "fig = plt.figure(figsize = (2, 5))\n",
        "#fig.set_figwidth(4)\n",
        " \n",
        "# creating the bar plot\n",
        "plt.bar(algos, accuracy, color ='red', width = 0.1)\n",
        " \n",
        "plt.xlabel(\"Algorithms Applied\")\n",
        "plt.ylabel(\"Accuracy\")\n",
        "plt.show()"
      ],
      "metadata": {
        "execution": {
          "iopub.status.busy": "2022-04-20T09:51:13.583597Z",
          "iopub.execute_input": "2022-04-20T09:51:13.584296Z",
          "iopub.status.idle": "2022-04-20T09:51:13.726955Z",
          "shell.execute_reply.started": "2022-04-20T09:51:13.584250Z",
          "shell.execute_reply": "2022-04-20T09:51:13.726185Z"
        },
        "trusted": true,
        "colab": {
          "base_uri": "https://localhost:8080/",
          "height": 334
        },
        "id": "C134ihrv4Wdo",
        "outputId": "2bacc7c3-2dc0-480e-9c14-2ef6f19ac3a3"
      },
      "execution_count": null,
      "outputs": [
        {
          "output_type": "display_data",
          "data": {
            "text/plain": [
              "<Figure size 144x360 with 1 Axes>"
            ],
            "image/png": "[encoded data removed]"
          },
          "metadata": {
            "needs_background": "light"
          }
        }
      ]
    },
    {
      "cell_type": "markdown",
      "source": [
        "## Predictions"
      ],
      "metadata": {
        "id": "8RcYErqX4Wdo"
      }
    },
    {
      "cell_type": "code",
      "source": [
        "def chestScanPrediction(path, _model):\n",
        "    classes_dir = [\"Adenocarcinoma\",\"Large cell carcinoma\",\"Normal\",\"Squamous cell carcinoma\"]\n",
        "    # Loading Image\n",
        "    img = image.load_img(path, target_size=(350,350))\n",
        "    # Normalizing Image\n",
        "    norm_img = image.img_to_array(img)/250\n",
        "    # Converting Image to Numpy Array\n",
        "    input_arr_img = np.array([norm_img])\n",
        "    # Getting Predictions\n",
        "    pred = np.argmax(_model.predict(input_arr_img))\n",
        "    # Printing Model Prediction\n",
        "    print(classes_dir[pred])"
      ],
      "metadata": {
        "execution": {
          "iopub.status.busy": "2022-04-20T09:51:14.548487Z",
          "iopub.execute_input": "2022-04-20T09:51:14.549002Z",
          "iopub.status.idle": "2022-04-20T09:51:14.555858Z",
          "shell.execute_reply.started": "2022-04-20T09:51:14.548962Z",
          "shell.execute_reply": "2022-04-20T09:51:14.555004Z"
        },
        "trusted": true,
        "id": "r1Q_nQIU4Wdp"
      },
      "execution_count": null,
      "outputs": []
    },
    {
      "cell_type": "code",
      "source": [
        "path = \"/content/drive/MyDrive/Data/test/large.cell.carcinoma/000110.png\"\n",
        "chestScanPrediction(path,model_incep)"
      ],
      "metadata": {
        "execution": {
          "iopub.status.busy": "2022-04-20T09:51:15.167188Z",
          "iopub.execute_input": "2022-04-20T09:51:15.167666Z",
          "iopub.status.idle": "2022-04-20T09:51:16.591768Z",
          "shell.execute_reply.started": "2022-04-20T09:51:15.167633Z",
          "shell.execute_reply": "2022-04-20T09:51:16.590980Z"
        },
        "trusted": true,
        "colab": {
          "base_uri": "https://localhost:8080/"
        },
        "id": "biieLLPc4Wdp",
        "outputId": "df8bbd6e-7935-4d0a-f3b2-2f411462301b"
      },
      "execution_count": null,
      "outputs": [
        {
          "output_type": "stream",
          "name": "stdout",
          "text": [
            "Large cell carcinoma\n"
          ]
        }
      ]
    },
    {
      "cell_type": "code",
      "source": [
        "def plot_confusion_matrix(cm, classes, normalize=True, title='Confusion matrix', cmap=plt.cm.Blues):\n",
        "    \"\"\"\n",
        "    This function prints and plots the confusion matrix.\n",
        "    Normalization can be applied by setting `normalize=True`.\n",
        "    \"\"\"\n",
        "    plt.figure(figsize=(20,20))\n",
        "    plt.imshow(cm, interpolation='nearest', cmap=cmap)\n",
        "    plt.title(title)\n",
        "    plt.colorbar()\n",
        "    tick_marks = np.arange(len(classes))\n",
        "    plt.xticks(tick_marks, classes, rotation=45)\n",
        "    plt.yticks(tick_marks, classes)\n",
        "    if normalize:\n",
        "        cm = cm.astype('float') / cm.sum(axis=1)[:, np.newaxis]\n",
        "        cm = np.around(cm, decimals=2)\n",
        "        cm[np.isnan(cm)] = 0.0\n",
        "        print(\"Normalized confusion matrix\")\n",
        "    else:\n",
        "        print('Confusion matrix, without normalization')\n",
        "        thresh = cm.max() / 2.\n",
        "        for i, j in itertools.product(range(cm.shape[0]), range(cm.shape[1])):\n",
        "            plt.text(j, i, cm[i, j],\n",
        "                     horizontalalignment=\"center\",\n",
        "                     color=\"white\" if cm[i, j] > thresh else \"black\")\n",
        "            plt.tight_layout()\n",
        "            plt.ylabel('True label')\n",
        "            plt.xlabel('Predicted label')\n",
        "#Print the Target names\n",
        "from sklearn.metrics import classification_report, confusion_matrix\n",
        "import itertools \n",
        "#shuffle=False\n",
        "target_names = []\n",
        "for key in train_data.class_indices:\n",
        "    target_names.append(key)\n",
        "# print(target_names)\n",
        "#Confution Matrix\n",
        "Y_pred = model.predict_generator(test_data)\n",
        "y_pred = np.argmax(Y_pred, axis=1)\n",
        "print('Confusion Matrix')\n",
        "cm = confusion_matrix(test_data.classes, y_pred)\n",
        "plot_confusion_matrix(cm, target_names, title='Confusion Matrix')\n",
        "#Print Classification Report\n",
        "print('Classification Report')\n",
        "print(classification_report(test_data.classes, y_pred, target_names=target_names))"
      ],
      "metadata": {
        "colab": {
          "base_uri": "https://localhost:8080/",
          "height": 1000
        },
        "id": "rp4dd3EQ4Wdp",
        "outputId": "a40a2934-ed10-4529-f274-1a3003150314"
      },
      "execution_count": null,
      "outputs": [
        {
          "output_type": "stream",
          "name": "stdout",
          "text": [
            "Confusion Matrix\n",
            "Normalized confusion matrix\n",
            "Classification Report\n",
            "                                                  precision    recall  f1-score   support\n",
            "\n",
            "      adenocarcinoma_left.lower.lobe_T2_N0_M0_Ib       0.35      0.48      0.40       120\n",
            "   large.cell.carcinoma_left.hilum_T2_N2_M0_IIIa       0.14      0.10      0.12        51\n",
            "                                          normal       0.17      0.17      0.17        54\n",
            "squamous.cell.carcinoma_left.hilum_T1_N2_M0_IIIa       0.27      0.18      0.21        90\n",
            "\n",
            "                                        accuracy                           0.28       315\n",
            "                                       macro avg       0.23      0.23      0.23       315\n",
            "                                    weighted avg       0.26      0.28      0.26       315\n",
            "\n"
          ]
        },
        {
          "output_type": "display_data",
          "data": {
            "text/plain": [
              "<Figure size 1440x1440 with 2 Axes>"
            ],
            "image/png": "[encoded data removed]"
          },
          "metadata": {
            "needs_background": "light"
          }
        }
      ]
    },
    {
      "cell_type": "code",
      "source": [
        ""
      ],
      "metadata": {
        "id": "LegSqfq-QSz0"
      },
      "execution_count": null,
      "outputs": []
    }
  ]
}